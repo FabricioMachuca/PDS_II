{
 "cells": [
  {
   "cell_type": "markdown",
   "metadata": {},
   "source": [
    "*Librería*"
   ]
  },
  {
   "cell_type": "code",
   "execution_count": 1,
   "metadata": {},
   "outputs": [],
   "source": [
    "import cv2"
   ]
  },
  {
   "cell_type": "markdown",
   "metadata": {},
   "source": [
    "*Lectura de Imagen*"
   ]
  },
  {
   "cell_type": "code",
   "execution_count": 2,
   "metadata": {},
   "outputs": [],
   "source": [
    "img=cv2.imread('img_py/img13.jpeg')\n",
    "cv2.imshow('IMG',img)\n",
    "cv2.waitKey(0)\n",
    "cv2.destroyAllWindows()"
   ]
  },
  {
   "cell_type": "markdown",
   "metadata": {},
   "source": [
    "*Filtro*"
   ]
  },
  {
   "cell_type": "code",
   "execution_count": 3,
   "metadata": {},
   "outputs": [],
   "source": [
    "import cv2\n",
    "import numpy as np\n",
    "\n",
    "img = cv2.imread('img_py/img13.jpeg',0)\n",
    "\n",
    "fil,col = img.shape\n",
    "\n",
    "imgM=np.zeros((fil-2,col-2),np.uint8)\n",
    "\n",
    "for j in range(1,fil-1):\n",
    "    for i in range(1,col-1):\n",
    "        a=img[j-1,i-1]\n",
    "        b=img[j,i-1]\n",
    "        c=img[j+1,i-1]\n",
    "        d=img[j-1,i]\n",
    "        e=img[j,i]\n",
    "        f=img[j+1,i]\n",
    "        g=img[j-1,i+1]\n",
    "        h=img[j,i+1]\n",
    "        k=img[j+1,i+1]\n",
    "\n",
    "        A_p=[[a,b,c,d,e,f,g,h,k]]\n",
    "        #Determinación de mediana\n",
    "        pix=np.median(A_p)\n",
    "        #Sobreescribimos los pixeles\n",
    "        imgM[j-1,i-1]=pix\n",
    "\n",
    "cv2.imshow('Imagen Original',img)\n",
    "cv2.imshow('Filtro de la mediana',imgM)\n",
    "\n",
    "cv2.waitKey(0)\n",
    "cv2.destroyAllWindows()"
   ]
  },
  {
   "cell_type": "markdown",
   "metadata": {},
   "source": [
    "*Histograma*"
   ]
  },
  {
   "cell_type": "code",
   "execution_count": 8,
   "metadata": {},
   "outputs": [
    {
     "data": {
      "image/png": "[encoded data removed]",
      "text/plain": [
       "<Figure size 640x480 with 1 Axes>"
      ]
     },
     "metadata": {},
     "output_type": "display_data"
    }
   ],
   "source": [
    "import cv2\n",
    "import matplotlib.pyplot as plt\n",
    "\n",
    "hist=cv2.calcHist(imgM,[0], None, [256], [0,255])\n",
    "plt.plot(hist)\n",
    "plt.show()\n",
    "cv2.imshow('IMG',imgM)\n",
    "cv2.waitKey(0)\n",
    "cv2.destroyAllWindows()"
   ]
  },
  {
   "cell_type": "markdown",
   "metadata": {},
   "source": [
    "*Binarizacion*"
   ]
  },
  {
   "cell_type": "code",
   "execution_count": 9,
   "metadata": {},
   "outputs": [],
   "source": [
    "import cv2\n",
    "\n",
    "_,imgB=cv2.threshold(imgM,150,255,cv2.THRESH_BINARY) #\n",
    "\n",
    "cv2.imshow('IMG',imgM)\n",
    "cv2.imshow('IMG2',imgB)\n",
    "cv2.waitKey(0)\n",
    "cv2.destroyAllWindows()"
   ]
  },
  {
   "cell_type": "markdown",
   "metadata": {},
   "source": [
    "*Intervalo de Umbral Binario Invertido*"
   ]
  },
  {
   "cell_type": "code",
   "execution_count": 11,
   "metadata": {},
   "outputs": [],
   "source": [
    "import cv2\n",
    "import numpy as np\n",
    "\n",
    "imgO= np.zeros(imgM.shape,np.uint8)\n",
    "rows = imgM.shape[0]\n",
    "cols = imgM.shape[1]\n",
    "\n",
    "for j in range(rows):\n",
    "    for i in range(cols):\n",
    "        if imgM[j,i]<=100 or imgM[j,i]>=150:\n",
    "            imgO[j,i]=0\n",
    "        else:\n",
    "            imgO[j,i]=255\n",
    "\n",
    "cv2.imshow('IMG',imgM)\n",
    "cv2.imshow('IMG2',imgO)\n",
    "cv2.waitKey(0)\n",
    "cv2.destroyAllWindows()"
   ]
  },
  {
   "cell_type": "markdown",
   "metadata": {},
   "source": [
    "*Conteo de círculos*"
   ]
  },
  {
   "cell_type": "code",
   "execution_count": 12,
   "metadata": {},
   "outputs": [
    {
     "name": "stdout",
     "output_type": "stream",
     "text": [
      "5\n"
     ]
    }
   ],
   "source": [
    "#DIBUJAR CONTORNOS , CONTAR OBJETOs\n",
    "import cv2\n",
    "import matplotlib.pyplot as plt\n",
    "\n",
    "#\n",
    "contornos,_=cv2.findContours(imgO.copy(),cv2.RETR_EXTERNAL,cv2.CHAIN_APPROX_NONE)\n",
    "cv2.drawContours(img,contornos,-1, (0,255,0),1)\n",
    "\n",
    "cont=0\n",
    "for contour in contornos:\n",
    "    cont=cont+1\n",
    "    x,y,w,h=cv2.boundingRect(contour)\n",
    "    cv2.rectangle(img,(x,y),(x+w,y+h),(100,255,100),1)\n",
    "print(cont)\n",
    "#"
   ]
  }
 ],
 "metadata": {
  "kernelspec": {
   "display_name": "Python 3",
   "language": "python",
   "name": "python3"
  },
  "language_info": {
   "codemirror_mode": {
    "name": "ipython",
    "version": 3
   },
   "file_extension": ".py",
   "mimetype": "text/x-python",
   "name": "python",
   "nbconvert_exporter": "python",
   "pygments_lexer": "ipython3",
   "version": "3.12.6"
  }
 },
 "nbformat": 4,
 "nbformat_minor": 2
}
