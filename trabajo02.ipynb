{
 "cells": [
  {
   "cell_type": "markdown",
   "metadata": {},
   "source": [
    "*Librerías*"
   ]
  },
  {
   "cell_type": "code",
   "execution_count": 1,
   "metadata": {},
   "outputs": [],
   "source": [
    "import cv2\n",
    "import matplotlib.pyplot as plt\n",
    "import numpy as np"
   ]
  },
  {
   "cell_type": "markdown",
   "metadata": {},
   "source": [
    "*Lectura de imagen*"
   ]
  },
  {
   "cell_type": "code",
   "execution_count": 2,
   "metadata": {},
   "outputs": [],
   "source": [
    "img=cv2.imread('img_py/limones.jpeg')\n",
    "cv2.imshow('IMG',img)\n",
    "cv2.waitKey(0)\n",
    "cv2.destroyAllWindows()"
   ]
  },
  {
   "cell_type": "markdown",
   "metadata": {},
   "source": [
    "*Hallando HSV maximos y minimos*"
   ]
  },
  {
   "cell_type": "code",
   "execution_count": 6,
   "metadata": {},
   "outputs": [],
   "source": [
    "import cv2\n",
    "import numpy as np\n",
    "\n",
    "def nothing(x):\n",
    "    pass\n",
    "\n",
    "#cap = cv2.VideoCapture(0)\n",
    "cv2.namedWindow('Barras')\n",
    "\n",
    "cv2.createTrackbar('H min', 'Barras', 0, 179, nothing)\n",
    "cv2.createTrackbar('H max', 'Barras', 0, 179, nothing)\n",
    "cv2.createTrackbar('S min', 'Barras', 0, 255, nothing)\n",
    "cv2.createTrackbar('S max', 'Barras', 0, 255, nothing)\n",
    "cv2.createTrackbar('V min', 'Barras', 0, 255, nothing)\n",
    "cv2.createTrackbar('V max', 'Barras', 0, 255, nothing)\n",
    "\n",
    "while True:\n",
    "    #_, img = img.read()\n",
    "    imgHSV = cv2.cvtColor(img, cv2.COLOR_BGR2HSV)\n",
    "    \n",
    "    Hmin = cv2.getTrackbarPos('H min', 'Barras')\n",
    "    Hmax = cv2.getTrackbarPos('H max', 'Barras')\n",
    "    Smin = cv2.getTrackbarPos('S min', 'Barras')\n",
    "    Smax = cv2.getTrackbarPos('S max', 'Barras')\n",
    "    Vmin = cv2.getTrackbarPos('V min', 'Barras')\n",
    "    Vmax = cv2.getTrackbarPos('V max', 'Barras')\n",
    "    \n",
    "    min_p = np.array([Hmin, Smin, Vmin])\n",
    "    max_p = np.array([Hmax, Smax, Vmax])\n",
    "\n",
    "    imgSeg = cv2.inRange(imgHSV, min_p, max_p)\n",
    "    \n",
    "    cv2.imshow('Img In', img)\n",
    "    cv2.imshow('Img out', imgSeg)\n",
    "    \n",
    "    if(cv2.waitKey(10) == ord('q')):\n",
    "        break\n",
    "\n",
    "cv2.destroyAllWindows()"
   ]
  },
  {
   "cell_type": "markdown",
   "metadata": {},
   "source": [
    "*Conteo de limones verdes*"
   ]
  },
  {
   "cell_type": "code",
   "execution_count": 9,
   "metadata": {},
   "outputs": [
    {
     "name": "stdout",
     "output_type": "stream",
     "text": [
      "4\n"
     ]
    }
   ],
   "source": [
    "imgHSV=cv2.cvtColor(img,cv2.COLOR_BGR2HSV)\n",
    "\n",
    "min_p=np.array([32,10,0])\n",
    "max_p=np.array([90,255,245])\n",
    "imgSeg=cv2.inRange(imgHSV,min_p,max_p)\n",
    "\n",
    "contornos,_=cv2.findContours(imgSeg.copy(),cv2.RETR_EXTERNAL,cv2.CHAIN_APPROX_NONE)\n",
    "#cv2.drawContours(img,contornos,-1, (0,255,0),1)\n",
    "\n",
    "cont=0\n",
    "for contour in contornos:\n",
    "    cont=cont+1\n",
    "    x,y,w,h=cv2.boundingRect(contour)\n",
    "    cv2.rectangle(img,(x,y),(x+w,y+h),(100,255,100),1)\n",
    "print(cont)\n",
    "\n",
    "cv2.imshow('RGB',img)\n",
    "cv2.imshow('HSV',imgSeg)\n",
    "cv2.waitKey(0)\n",
    "cv2.destroyAllWindows()"
   ]
  }
 ],
 "metadata": {
  "kernelspec": {
   "display_name": "Python 3",
   "language": "python",
   "name": "python3"
  },
  "language_info": {
   "codemirror_mode": {
    "name": "ipython",
    "version": 3
   },
   "file_extension": ".py",
   "mimetype": "text/x-python",
   "name": "python",
   "nbconvert_exporter": "python",
   "pygments_lexer": "ipython3",
   "version": "3.12.6"
  }
 },
 "nbformat": 4,
 "nbformat_minor": 2
}
