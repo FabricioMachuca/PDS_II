{
 "cells": [
  {
   "cell_type": "markdown",
   "metadata": {},
   "source": [
    "# TRANSFORMACIONES DE COLOR"
   ]
  },
  {
   "cell_type": "code",
   "execution_count": 1,
   "metadata": {},
   "outputs": [],
   "source": [
    "import cv2"
   ]
  },
  {
   "cell_type": "code",
   "execution_count": 2,
   "metadata": {},
   "outputs": [],
   "source": [
    "img=cv2.imread('img_py/img_03.jpg')\n",
    "imgHSV=cv2.cvtColor(img,cv2.COLOR_BGR2HSV)\n",
    "cv2.imshow('IMG In',img)\n",
    "cv2.imshow('IMG Out',imgHSV)\n",
    "cv2.waitKey(0)\n",
    "cv2.destroyAllWindows()"
   ]
  },
  {
   "cell_type": "markdown",
   "metadata": {},
   "source": [
    "*BINARIZACION*"
   ]
  },
  {
   "cell_type": "code",
   "execution_count": 3,
   "metadata": {},
   "outputs": [],
   "source": [
    "import cv2\n",
    "import numpy as np\n",
    "#img=cv2.imread('img_03.jpg')\n",
    "imgHSV=cv2.cvtColor(img,cv2.COLOR_BGR2HSV)\n",
    "\n",
    "min_p=np.array([0,50,150])\n",
    "max_p=np.array([30,151,255])\n",
    "imgSeg=cv2.inRange(imgHSV,min_p,max_p)\n",
    "\n",
    "cv2.imshow('RGB',img)\n",
    "cv2.imshow('HSV',imgSeg)\n",
    "cv2.waitKey(0)\n",
    "cv2.destroyAllWindows()"
   ]
  },
  {
   "cell_type": "code",
   "execution_count": 4,
   "metadata": {},
   "outputs": [],
   "source": [
    "import cv2\n",
    "import numpy as np\n",
    "\n",
    "def nothing(x):\n",
    "    pass\n",
    "\n",
    "cap = cv2.VideoCapture(0)\n",
    "cv2.namedWindow('Barras')\n",
    "\n",
    "cv2.createTrackbar('H min', 'Barras', 0, 179, nothing)\n",
    "cv2.createTrackbar('H max', 'Barras', 0, 179, nothing)\n",
    "cv2.createTrackbar('S min', 'Barras', 0, 255, nothing)\n",
    "cv2.createTrackbar('S max', 'Barras', 0, 255, nothing)\n",
    "cv2.createTrackbar('V min', 'Barras', 0, 255, nothing)\n",
    "cv2.createTrackbar('V max', 'Barras', 0, 255, nothing)\n",
    "\n",
    "while(cap.isOpened()):\n",
    "    _, img = cap.read()\n",
    "    imgHSV = cv2.cvtColor(img, cv2.COLOR_BGR2HSV)\n",
    "    \n",
    "    Hmin = cv2.getTrackbarPos('H min', 'Barras')\n",
    "    Hmax = cv2.getTrackbarPos('H max', 'Barras')\n",
    "    Smin = cv2.getTrackbarPos('S min', 'Barras')\n",
    "    Smax = cv2.getTrackbarPos('S max', 'Barras')\n",
    "    Vmin = cv2.getTrackbarPos('V min', 'Barras')\n",
    "    Vmax = cv2.getTrackbarPos('V max', 'Barras')\n",
    "    \n",
    "    min_p = np.array([Hmin, Smin, Vmin])\n",
    "    max_p = np.array([Hmax, Smax, Vmax])\n",
    "\n",
    "    imgSeg = cv2.inRange(imgHSV, min_p, max_p)\n",
    "    \n",
    "    cv2.imshow('Img In', img)\n",
    "    cv2.imshow('Img out', imgSeg)\n",
    "    \n",
    "    if(cv2.waitKey(10) == ord('q')):\n",
    "        break\n",
    "        \n",
    "cap.release()\n",
    "cv2.destroyAllWindows()"
   ]
  }
 ],
 "metadata": {
  "kernelspec": {
   "display_name": "Python 3",
   "language": "python",
   "name": "python3"
  },
  "language_info": {
   "codemirror_mode": {
    "name": "ipython",
    "version": 3
   },
   "file_extension": ".py",
   "mimetype": "text/x-python",
   "name": "python",
   "nbconvert_exporter": "python",
   "pygments_lexer": "ipython3",
   "version": "3.12.6"
  }
 },
 "nbformat": 4,
 "nbformat_minor": 2
}
