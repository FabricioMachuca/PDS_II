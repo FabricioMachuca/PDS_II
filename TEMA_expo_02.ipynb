{
 "cells": [
  {
   "cell_type": "markdown",
   "metadata": {},
   "source": [
    "# TRANSFORMACIONES GEOMÉTRICAS\n",
    "\n",
    " Manipulación de la imagen desde un cambio en la posición de píxeles mismos antes de la modificación de su valor. Este tipo de transformaciones implica un cambio en la disposición y distribución de los píxeles respecto de un sistemas de coordenadas.\n",
    "\n",
    "# Conceptos Geométricos\n",
    "\n",
    "<div style=\"text-align: center;\">\n",
    "    <img src=\"img_expo/PDi.png\" alt=\"Imagen\" style=\"width: 30%;\"/>\n",
    "</div>\n",
    "\n",
    "La imagen digital es discreta, por lo tanto no existen valores de intensidad entre los valores discretos de las coordenadas i y j, que coinciden con las intersecciones de los valores discretos tanto horizontales y verticales.\n",
    "\n",
    "# Interpolación\n",
    "\n",
    "- Cálculo del valor de intensidad de un pixel, en una posición cualquiera, como una función de los píxeles que lo rodean.\n",
    "\n",
    "- Utilizado en el proceso de imágenes digitales para remuestreo, restauración de agujeros, deformación, transformaciones no lineales."
   ]
  },
  {
   "cell_type": "markdown",
   "metadata": {},
   "source": [
    "> # Interpolación por vecino más cercano\n",
    "\n",
    "- Método básico que requiere un tiempo de procesado bajo\n",
    "- Solo tiene en cuenta el pixel mas cercano al punto interpolado\n",
    "- Simplemente aumenta el tamaño de cada pixel"
   ]
  },
  {
   "cell_type": "code",
   "execution_count": 1,
   "metadata": {},
   "outputs": [
    {
     "name": "stdout",
     "output_type": "stream",
     "text": [
      "(53, 80, 3)\n",
      "(265, 400, 3)\n"
     ]
    }
   ],
   "source": [
    "import cv2\n",
    "\n",
    "# Leer la imagen\n",
    "img = cv2.imread('img_py/mouse01.jpg')\n",
    "print(img.shape)\n",
    "\n",
    "# Ampliar la imagen\n",
    "width = img.shape[1] * 5\n",
    "height = img.shape[0] * 5\n",
    "red = (width, height)\n",
    "\n",
    "# Redimensionar la imagen usando interpolación por el vecino más cercano\n",
    "near = cv2.resize(img, red,interpolation=cv2.INTER_NEAREST)\n",
    "print(near.shape)\n",
    "\n",
    "# Mostrar las imágenes\n",
    "cv2.imshow('Imagen Original', img)\n",
    "cv2.imshow('Interpolacion por el vecino mas cercano', near)\n",
    "\n",
    "cv2.waitKey(0)\n",
    "cv2.destroyAllWindows()"
   ]
  },
  {
   "cell_type": "markdown",
   "metadata": {},
   "source": [
    "> # Interpolación Bilineal\n",
    "\n",
    "- Tiene en cuenta los valores en los pixeles conocidos que rodean a uno dado en una vecindad de los 2x2 más cercanos para calcular el valor interpolado\n",
    "- Necesita más tiempo de procesado"
   ]
  },
  {
   "cell_type": "code",
   "execution_count": 2,
   "metadata": {},
   "outputs": [],
   "source": [
    "import cv2\n",
    "\n",
    "# Leer la imagen\n",
    "img = cv2.imread('img_py/mouse01.jpg')\n",
    "\n",
    "# Ampliar la imagen al doble de su tamaño original\n",
    "width = img.shape[1] * 5\n",
    "height = img.shape[0] * 5\n",
    "red = (width, height)\n",
    "\n",
    "# Redimensionar la imagen usando interpolación bilineal\n",
    "bil = cv2.resize(img, red,interpolation=cv2.INTER_LINEAR)\n",
    "\n",
    "# Mostrar las imágenes\n",
    "cv2.imshow('Interpolacion por el vecino mas cercano', near)\n",
    "cv2.imshow('Interpolacion bilineal', bil)\n",
    "\n",
    "cv2.waitKey(0)\n",
    "cv2.destroyAllWindows()"
   ]
  },
  {
   "cell_type": "markdown",
   "metadata": {},
   "source": [
    "> # Interpolación Bicúbica\n",
    "\n",
    "- Considera la vecindad de los 4x4 pixeles conocidos más cercanos.\n",
    "- Al estar situados a distancias distintas del pixel de valor desconocido, se da mayor peso en el cálculo a los más cercanos.\n",
    "- Tiene un buen compromiso entre tiempo de procesado y calidad de resultado."
   ]
  },
  {
   "cell_type": "code",
   "execution_count": 3,
   "metadata": {},
   "outputs": [],
   "source": [
    "import cv2\n",
    "\n",
    "# Leer la imagen\n",
    "img = cv2.imread('img_py/mouse01.jpg')\n",
    "\n",
    "# Ampliar la imagen al doble de su tamaño original\n",
    "width = img.shape[1] * 5\n",
    "height = img.shape[0] * 5\n",
    "red = (width, height)\n",
    "\n",
    "# Redimensionar la imagen usando interpolación bicubica\n",
    "cub = cv2.resize(img, red,interpolation=cv2.INTER_CUBIC)\n",
    "\n",
    "# Mostrar las imágenes\n",
    "cv2.imshow('Interpolacion por el vecino mas cercano', near)\n",
    "cv2.imshow('Interpolacion Bilineal', bil)\n",
    "cv2.imshow('Interpolacion Bicubica', cub)\n",
    "\n",
    "cv2.waitKey(0)\n",
    "cv2.destroyAllWindows()"
   ]
  },
  {
   "cell_type": "markdown",
   "metadata": {},
   "source": [
    "# Traslación\n",
    "\n",
    "<div style=\"text-align: center;\">\n",
    "    <img src=\"img_expo/tras.jpg\" alt=\"Imagen\" style=\"width: 50%;\"/>\n",
    "</div>"
   ]
  },
  {
   "cell_type": "code",
   "execution_count": 4,
   "metadata": {},
   "outputs": [
    {
     "name": "stdout",
     "output_type": "stream",
     "text": [
      "(316, 474, 3)\n"
     ]
    }
   ],
   "source": [
    "import cv2\n",
    "import numpy as np\n",
    "\n",
    "# Leer la imagen\n",
    "img = cv2.imread('img_py/image02.jpg')\n",
    "\n",
    "fil,col,n =img.shape\n",
    "\n",
    "m=np.float32([[1,0,50],[0,1,120]])\n",
    "\n",
    "img_n=cv2.warpAffine(img,m,(col,fil))\n",
    "\n",
    "cv2.imshow('Imagen Original', img)\n",
    "cv2.imshow('Traslacion', img_n)\n",
    "\n",
    "print(img_n.shape)\n",
    "\n",
    "cv2.waitKey(0)\n",
    "cv2.destroyAllWindows()"
   ]
  },
  {
   "cell_type": "markdown",
   "metadata": {},
   "source": [
    "# Rotación\n",
    "\n",
    "<div style=\"text-align: center;\">\n",
    "    <img src=\"img_expo/rot.jpg\" alt=\"Imagen\" style=\"width: 50%;\"/>\n",
    "</div>"
   ]
  },
  {
   "cell_type": "code",
   "execution_count": 5,
   "metadata": {},
   "outputs": [
    {
     "name": "stdout",
     "output_type": "stream",
     "text": [
      "(316, 474, 3)\n"
     ]
    }
   ],
   "source": [
    "import cv2\n",
    "import numpy as np\n",
    "\n",
    "# Leer la imagen\n",
    "img = cv2.imread('img_py/image02.jpg')\n",
    "\n",
    "fil,col,n =img.shape\n",
    "\n",
    "m=cv2.getRotationMatrix2D((col/2,fil/2),180,1)\n",
    "\n",
    "img_n=cv2.warpAffine(img,m,(col,fil))\n",
    "\n",
    "cv2.imshow('Imagen Original', img)\n",
    "cv2.imshow('Rotacion', img_n)\n",
    "\n",
    "print(img_n.shape)\n",
    "\n",
    "cv2.waitKey(0)\n",
    "cv2.destroyAllWindows()"
   ]
  }
 ],
 "metadata": {
  "kernelspec": {
   "display_name": "Python 3",
   "language": "python",
   "name": "python3"
  },
  "language_info": {
   "codemirror_mode": {
    "name": "ipython",
    "version": 3
   },
   "file_extension": ".py",
   "mimetype": "text/x-python",
   "name": "python",
   "nbconvert_exporter": "python",
   "pygments_lexer": "ipython3",
   "version": "3.12.6"
  }
 },
 "nbformat": 4,
 "nbformat_minor": 2
}
