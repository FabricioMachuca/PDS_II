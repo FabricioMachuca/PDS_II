{
 "cells": [
  {
   "cell_type": "code",
   "execution_count": 2,
   "metadata": {},
   "outputs": [],
   "source": [
    "import cv2\n",
    "import numpy as np"
   ]
  },
  {
   "cell_type": "markdown",
   "metadata": {},
   "source": [
    "_LECTURA DE IMAGEN_"
   ]
  },
  {
   "cell_type": "code",
   "execution_count": 19,
   "metadata": {},
   "outputs": [
    {
     "name": "stdout",
     "output_type": "stream",
     "text": [
      "(316, 474, 3)\n"
     ]
    }
   ],
   "source": [
    "img = cv2.imread('img_py/image02.jpg')\n",
    "print(img.shape)"
   ]
  },
  {
   "cell_type": "markdown",
   "metadata": {},
   "source": [
    "# LINEA"
   ]
  },
  {
   "cell_type": "code",
   "execution_count": 14,
   "metadata": {},
   "outputs": [],
   "source": [
    "img = cv2.imread('img_py/image02.jpg')\n",
    "cv2.line(img,(0,0),(474,316),(0,0,255),2)\n",
    "\n",
    "cv2.imshow('Img_ln',img)\n",
    "cv2.waitKey(0)\n",
    "cv2.destroyAllWindows()"
   ]
  },
  {
   "cell_type": "markdown",
   "metadata": {},
   "source": [
    "# RECTANGULO"
   ]
  },
  {
   "cell_type": "code",
   "execution_count": 15,
   "metadata": {},
   "outputs": [],
   "source": [
    "img = cv2.imread('img_py/image02.jpg')\n",
    "cv2.rectangle(img,(10,10),(30,100),(100,125,255),2)\n",
    "\n",
    "cv2.imshow('Img_ln',img)\n",
    "cv2.waitKey(0)\n",
    "cv2.destroyAllWindows()"
   ]
  },
  {
   "cell_type": "markdown",
   "metadata": {},
   "source": [
    "# CIRCULO"
   ]
  },
  {
   "cell_type": "code",
   "execution_count": 16,
   "metadata": {},
   "outputs": [],
   "source": [
    "img = cv2.imread('img_py/image02.jpg')\n",
    "cv2.circle(img,(237,158),100,(0,0,230),4)\n",
    "\n",
    "cv2.imshow('Img_ln',img)\n",
    "cv2.waitKey(0)\n",
    "cv2.destroyAllWindows()"
   ]
  },
  {
   "cell_type": "markdown",
   "metadata": {},
   "source": [
    "# TEXTO"
   ]
  },
  {
   "cell_type": "code",
   "execution_count": 23,
   "metadata": {},
   "outputs": [],
   "source": [
    "img = cv2.imread('img_py/image02.jpg')\n",
    "cv2.putText(img,'Esto es un texto',(150,120),cv2.FONT_HERSHEY_SIMPLEX,0.9,(255,0,0),2)\n",
    "\n",
    "cv2.imshow('Img_ln',img)\n",
    "cv2.waitKey(0)\n",
    "cv2.destroyAllWindows()"
   ]
  },
  {
   "cell_type": "markdown",
   "metadata": {},
   "source": [
    "# GRAFICAS EN VIDEO"
   ]
  },
  {
   "cell_type": "code",
   "execution_count": 29,
   "metadata": {},
   "outputs": [],
   "source": [
    "cap = cv2.VideoCapture(0)\n",
    "\n",
    "while(cap.isOpened()):\n",
    "    ret,img=cap.read()\n",
    "    if(ret==True):\n",
    "        cv2.line(img,(0,0),(474,316),(0,0,255),2)\n",
    "        cv2.rectangle(img,(10,10),(30,100),(0,125,255),2)\n",
    "        cv2.circle(img,(237,158),100,(0,0,230),4)\n",
    "        cv2.putText(img,'Esto es un texto',(150,120),cv2.FONT_HERSHEY_SIMPLEX,0.9,(255,0,0),2)\n",
    "        cv2.imshow('Video',img)\n",
    "        if(cv2.waitKey(30)==ord('q')):\n",
    "            break\n",
    "    else:\n",
    "        break\n",
    "\n",
    "cap.release()\n",
    "cv2.destroyAllWindows()"
   ]
  },
  {
   "cell_type": "markdown",
   "metadata": {},
   "source": [
    "# DETECTOR DE ROSTROS"
   ]
  },
  {
   "cell_type": "code",
   "execution_count": 25,
   "metadata": {},
   "outputs": [],
   "source": [
    "img=cv2.imread('img_py/img_03.jpg')\n",
    "imgG=cv2.imread('img_py/img_03.jpg',0)\n",
    "fc=cv2.CascadeClassifier('haarcascade/haarcascade_frontalface_default.xml')\n",
    "caras=fc.detectMultiScale(img,scaleFactor=1.1,minNeighbors=5,minSize=(30,30))\n",
    "for  (x,y,w,h) in caras:\n",
    "    cv2.rectangle(img,(x,y),(x+w,y+h),(0,255,0),2)\n",
    "\n",
    "cv2.imshow('img_ln',img)\n",
    "cv2.waitKey(0)\n",
    "cv2.destroyAllWindows()    "
   ]
  },
  {
   "cell_type": "code",
   "execution_count": 26,
   "metadata": {},
   "outputs": [],
   "source": [
    "cap = cv2.VideoCapture(0)\n",
    "\n",
    "while(cap.isOpened()):\n",
    "    ret,img=cap.read()\n",
    "    if(ret==True):\n",
    "        imgG=cv2.imread('img_py/img_03.jpg',0)\n",
    "        fc=cv2.CascadeClassifier('haarcascade/haarcascade_frontalface_default.xml')\n",
    "        caras=fc.detectMultiScale(img,scaleFactor=1.1,minNeighbors=5,minSize=(30,30))\n",
    "\n",
    "        for  (x,y,w,h) in caras:\n",
    "            cv2.rectangle(img,(x,y),(x+w,y+h),(0,255,0),2)\n",
    "\n",
    "        cv2.putText(img,'Aqui hay un rostro',(x,y),cv2.FONT_HERSHEY_SIMPLEX,0.5,(0,0,255),2)    \n",
    "\n",
    "        cv2.imshow('Video',img)    \n",
    "        if(cv2.waitKey(30)==ord('q')):\n",
    "            break\n",
    "    else:\n",
    "        break\n",
    "\n",
    "cap.release()\n",
    "cv2.destroyAllWindows()"
   ]
  }
 ],
 "metadata": {
  "kernelspec": {
   "display_name": "Python 3",
   "language": "python",
   "name": "python3"
  },
  "language_info": {
   "codemirror_mode": {
    "name": "ipython",
    "version": 3
   },
   "file_extension": ".py",
   "mimetype": "text/x-python",
   "name": "python",
   "nbconvert_exporter": "python",
   "pygments_lexer": "ipython3",
   "version": "3.12.6"
  }
 },
 "nbformat": 4,
 "nbformat_minor": 2
}
